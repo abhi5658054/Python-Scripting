{
 "cells": [
  {
   "cell_type": "code",
   "execution_count": 1,
   "id": "5d0955fd-e79a-48ed-bcb4-d9303d21cc8d",
   "metadata": {},
   "outputs": [],
   "source": [
    "#week 3 Python CSV Module"
   ]
  },
  {
   "cell_type": "code",
   "execution_count": 3,
   "id": "706a4ab8-8f65-4d55-85a0-124591b6aa5a",
   "metadata": {},
   "outputs": [
    {
     "data": {
      "text/plain": [
       "'\\n    Using the csv module\\n'"
      ]
     },
     "execution_count": 3,
     "metadata": {},
     "output_type": "execute_result"
    }
   ],
   "source": [
    "\"\"\"\n",
    "    Using the csv module\n",
    "\"\"\""
   ]
  },
  {
   "cell_type": "code",
   "execution_count": 7,
   "id": "462c266e-10df-4419-b0e5-6008866a78ce",
   "metadata": {},
   "outputs": [],
   "source": [
    "import csv #import the python module"
   ]
  },
  {
   "cell_type": "code",
   "execution_count": 6,
   "id": "182520c1-1953-4322-aadd-16e5882de18f",
   "metadata": {},
   "outputs": [],
   "source": [
    "def parse(csvfilename):\n",
    "    \"\"\"\n",
    "    \n",
    "    Reads CSV file named csvfilename, parese\n",
    "    it's contains and returns the data within\n",
    "    the file as a list of lists\n",
    "    \"\"\"\n",
    "    table = []\n",
    "    with open(csvfilename, \"r\") as csvfile:\n",
    "        csvreader = csv.reader(csvfile, skipinitialspace=True)\n",
    "        for row in csvreader:\n",
    "            table.append(row)\n",
    "    return table"
   ]
  },
  {
   "cell_type": "code",
   "execution_count": 22,
   "id": "9b46a0bd-b2ff-4dc7-bf9f-bb73ffc4d7bb",
   "metadata": {},
   "outputs": [],
   "source": [
    "def print_table(table):\n",
    "    \"\"\"\n",
    "    Print out the table, which muist be a list\n",
    "    of Lists, in a nicely formatted way\n",
    "    \"\"\"\n",
    "    for row in table:\n",
    "        \"Header columns left justified\"\n",
    "        print(\"{:<19}\".format(row[0], end=''))\n",
    "        #Remining columns right justified\n",
    "        for col in row[1:]:\n",
    "            print(\"{:>4}\".format(col),end='')\n",
    "        print(\"\", end='\\n')\n",
    "        "
   ]
  },
  {
   "cell_type": "code",
   "execution_count": 23,
   "id": "d7499262-87a5-40b7-98de-70e406de4a63",
   "metadata": {},
   "outputs": [],
   "source": [
    "path_to_data = r\"C:\\Users\\abhikuma\\Desktop\\Abhishek-CourseEra\\Python-Scriptiing-Rice-University\\Course-3-Python-Data-Analysis\\notebooks\\week-2-data\\hightemp.csv\""
   ]
  },
  {
   "cell_type": "code",
   "execution_count": 24,
   "id": "f4d3616d-d7b5-474a-9723-9eb8854a82c2",
   "metadata": {},
   "outputs": [],
   "source": [
    "table = parse(path_to_data)"
   ]
  },
  {
   "cell_type": "code",
   "execution_count": 25,
   "id": "4609540a-7803-429c-8822-aea136d4fa3e",
   "metadata": {},
   "outputs": [
    {
     "name": "stdout",
     "output_type": "stream",
     "text": [
      "City               \n",
      " Jan Feb Mar Apr May Jun Jul Aug Sep Oct Nov Dec\n",
      "Houston            \n",
      "  62  65  72  78  84  90  92  93  88  81  71  63\n",
      "Baghdad            \n",
      "  61  66  75  86  97 108 111 111 104  91  75  64\n",
      "Moscow             \n",
      "  21  25  36  50  64  72  73  70  59  46  34  25\n",
      "San Francisco      \n",
      "  57  60  62  63  64  66  67  68  70  69  63  57\n",
      "London             \n",
      "  43  45  50  55  63  68  72  70  66  57  50  45\n",
      "Chicago            \n",
      "  32  36  46  59  70  81  84  82  75  63  48  36\n",
      "Sydney             \n",
      "  79  79  77  73  68  64  63  64  68  72  75  79\n",
      "Paris              \n",
      "  45  46  54  61  68  73  77  77  70  61  52  46\n",
      "Tokyo              \n",
      "  46  48  54  63  70  75  82  84  79  68  59  52\n",
      "Shanghai           \n",
      "  46  48  55  66  75  81  90  90  81  72  63  52\n"
     ]
    }
   ],
   "source": [
    "print_table(table)"
   ]
  },
  {
   "cell_type": "code",
   "execution_count": 26,
   "id": "85240241-8c6a-423c-80d3-d364dedcc7f2",
   "metadata": {},
   "outputs": [
    {
     "name": "stdout",
     "output_type": "stream",
     "text": [
      "\n"
     ]
    }
   ],
   "source": [
    "print(\"\")"
   ]
  },
  {
   "cell_type": "code",
   "execution_count": 27,
   "id": "b764266d-3b1a-4bea-bae4-f4d8f77d44dc",
   "metadata": {},
   "outputs": [
    {
     "name": "stdout",
     "output_type": "stream",
     "text": [
      "\n"
     ]
    }
   ],
   "source": [
    "print(\"\")"
   ]
  },
  {
   "cell_type": "code",
   "execution_count": 28,
   "id": "1778bbbf-77fa-4853-a83c-efabc259ab1c",
   "metadata": {},
   "outputs": [],
   "source": [
    "path_to_data = r\"C:\\Users\\abhikuma\\Desktop\\Abhishek-CourseEra\\Python-Scriptiing-Rice-University\\Course-3-Python-Data-Analysis\\notebooks\\week-2-data\\hightemp2.csv\""
   ]
  },
  {
   "cell_type": "code",
   "execution_count": 29,
   "id": "c5e1680c-b05b-40f1-ab60-1f35378cfde9",
   "metadata": {},
   "outputs": [],
   "source": [
    "table2 = parse(path_to_data)"
   ]
  },
  {
   "cell_type": "code",
   "execution_count": 30,
   "id": "0eb32697-40d5-4ed8-aec4-53d2f2ec338c",
   "metadata": {},
   "outputs": [
    {
     "name": "stdout",
     "output_type": "stream",
     "text": [
      "City               \n",
      " Jan Feb Mar Apr May Jun Jul Aug Sep Oct Nov Dec\n",
      "Houston, USA       \n",
      "  62  65  72  78  84  90  92  93  88  81  71  63\n",
      "Baghdad, Iraq      \n",
      "  61  66  75  86  97 108 111 111 104  91  75  64\n",
      "Moscow, Russia     \n",
      "  21  25  36  50  64  72  73  70  59  46  34  25\n",
      "San Francisco, USA \n",
      "  57  60  62  63  64  66  67  68  70  69  63  57\n",
      "London, England    \n",
      "  43  45  50  55  63  68  72  70  66  57  50  45\n",
      "Chicago, USA       \n",
      "  32  36  46  59  70  81  84  82  75  63  48  36\n",
      "Sydney, Australia  \n",
      "  79  79  77  73  68  64  63  64  68  72  75  79\n",
      "Paris, France      \n",
      "  45  46  54  61  68  73  77  77  70  61  52  46\n",
      "Tokyo, Japan       \n",
      "  46  48  54  63  70  75  82  84  79  68  59  52\n",
      "Shanghai, China    \n",
      "  46  48  55  66  75  81  90  90  81  72  63  52\n"
     ]
    }
   ],
   "source": [
    "print_table(table2)"
   ]
  },
  {
   "cell_type": "code",
   "execution_count": 31,
   "id": "7eb8c397-5700-4b5c-9818-e7d8a4a904a9",
   "metadata": {},
   "outputs": [],
   "source": [
    "#####################################################################################"
   ]
  },
  {
   "cell_type": "code",
   "execution_count": 35,
   "id": "58067a59-b36f-47c6-9af8-076c6fa3afbe",
   "metadata": {},
   "outputs": [],
   "source": [
    "#CSV DictReader\n",
    "MONTHS = ('Jan','Feb','Mar','Apr','May','Jun', 'Jul','Aug','Sep','Oct','Nov','Dec')"
   ]
  },
  {
   "cell_type": "code",
   "execution_count": 144,
   "id": "052694ec-c76a-4e65-806b-e7a8105e2fe8",
   "metadata": {},
   "outputs": [],
   "source": [
    "def dictparse(csvfilename,keyfield):\n",
    "    \"\"\"\n",
    "    Reads CSV file named csvfilename, parese\n",
    "    it's content and return the data within\n",
    "    the file as a dictionary of dictionaries.\n",
    "    \"\"\"\n",
    "    table = {}\n",
    "    with open(csvfilename, \"rt\", newline='') as csvfile:\n",
    "        csvreader = csv.DictReader(csvfile, skipinitialspace=True)\n",
    "        for row in csvreader:\n",
    "            table[row[keyfield]] = row\n",
    "    return table"
   ]
  },
  {
   "cell_type": "code",
   "execution_count": 145,
   "id": "32700937-ac15-47d4-a7a0-0f8eb96008d7",
   "metadata": {},
   "outputs": [],
   "source": [
    "def print_table(table):\n",
    "    \"\"\"\n",
    "    Print out table, which must be a dictionary\n",
    "    of dictionaries, in a nicely formatted way.\n",
    "    \"\"\"\n",
    "    print(\"City                \", end='  ')\n",
    "    for month in MONTHS:\n",
    "        print(\"{:<19}\".format(month), end='')\n",
    "    print(\"\")\n",
    "    for name, row in table.items():\n",
    "        #Header column left justified\n",
    "        print(\"{:<19}\".format(name), end='')\n",
    "        # Remaining columns right justified\n",
    "        for months in MONTHS:\n",
    "            print(\"{:>6}\".format(row[month]), end='          ')\n",
    "        print(\"\",end=\"\\n\")\n",
    "    "
   ]
  },
  {
   "cell_type": "code",
   "execution_count": 146,
   "id": "4393599c-4338-4459-b180-f28b7255ac79",
   "metadata": {},
   "outputs": [],
   "source": [
    "path_to_data = r\"C:\\Users\\abhikuma\\Desktop\\Abhishek-CourseEra\\Python-Scriptiing-Rice-University\\Course-3-Python-Data-Analysis\\notebooks\\week-2-data\\hightemp.csv\""
   ]
  },
  {
   "cell_type": "code",
   "execution_count": 148,
   "id": "c4607787-9550-4f51-8eb0-535e5f9b6c06",
   "metadata": {},
   "outputs": [],
   "source": [
    "table = dictparse(path_to_data,\"City\")"
   ]
  },
  {
   "cell_type": "code",
   "execution_count": 149,
   "id": "d1ffbe51-6592-4a1f-90e0-aeb5a33a4812",
   "metadata": {},
   "outputs": [
    {
     "name": "stdout",
     "output_type": "stream",
     "text": [
      "City                  Jan                Feb                Mar                Apr                May                Jun                Jul                Aug                Sep                Oct                Nov                Dec                \n",
      "Houston                63              63              63              63              63              63              63              63              63              63              63              63          \n",
      "Baghdad                64              64              64              64              64              64              64              64              64              64              64              64          \n",
      "Moscow                 25              25              25              25              25              25              25              25              25              25              25              25          \n",
      "San Francisco          57              57              57              57              57              57              57              57              57              57              57              57          \n",
      "London                 45              45              45              45              45              45              45              45              45              45              45              45          \n",
      "Chicago                36              36              36              36              36              36              36              36              36              36              36              36          \n",
      "Sydney                 79              79              79              79              79              79              79              79              79              79              79              79          \n",
      "Paris                  46              46              46              46              46              46              46              46              46              46              46              46          \n",
      "Tokyo                  52              52              52              52              52              52              52              52              52              52              52              52          \n",
      "Shanghai               52              52              52              52              52              52              52              52              52              52              52              52          \n"
     ]
    }
   ],
   "source": [
    "print_table(table)"
   ]
  },
  {
   "cell_type": "code",
   "execution_count": 150,
   "id": "4d2114d1-986a-4f5c-a054-c97339d15171",
   "metadata": {},
   "outputs": [],
   "source": [
    "def dictparse(csvfilename, keyfield, separator, quote, quotestrategy):\n",
    "    \"\"\"\n",
    "    Reads CSV file named csvfilename, parese\n",
    "    it's content and return the data within\n",
    "    the file as a dictionary of dictionaries.\n",
    "    \"\"\"\n",
    "    table = {}\n",
    "    with open(csvfilename, \"rt\", newline='') as csvfile:\n",
    "        csvreader = csv.DictReader(csvfile,\n",
    "                                   skipinitialspace=True,\n",
    "                                   delimiter=separator,\n",
    "                                   quotechar=quote,\n",
    "                                   quoting=quotestrategy\n",
    "                                  )\n",
    "        for row in csvreader:\n",
    "            table[row[keyfield]] = row\n",
    "    return table, csvreader.fieldnames"
   ]
  },
  {
   "cell_type": "code",
   "execution_count": 151,
   "id": "f75875b5-6ac9-45c8-8daf-23e7fef3394a",
   "metadata": {},
   "outputs": [],
   "source": [
    "def print_table(table, filenames):\n",
    "    \"\"\"\n",
    "    Print out table, which must be a dictionary\n",
    "    of dictionaries, in a nicely formatted way.\n",
    "    \"\"\"\n",
    "    print(\"{:<19}\".format(filenames[0]),end='')\n",
    "    for field in fieldnames[1:]:\n",
    "        print(\"{:>6}\".format(field), end='')\n",
    "    print(\"\")\n",
    "    for name, row in table.items():\n",
    "        #Header column Left justified\n",
    "        print(\"{:<19}\".format(name), end='')\n",
    "        # Remaining columns right justified\n",
    "        for field in fieldnames[1:]:\n",
    "            print(\"{:>6}\".format(row[field]), end='')\n",
    "        print(\"\", end='\\n')\n",
    "    "
   ]
  },
  {
   "cell_type": "code",
   "execution_count": 152,
   "id": "b4d3453b-b16c-4093-8676-bceaaeebf9e4",
   "metadata": {},
   "outputs": [],
   "source": [
    "table, fieldnames = dictparse(path_to_data,\n",
    "                              'City',\n",
    "                              ',',\n",
    "                              '\"',\n",
    "                              csv.QUOTE_MINIMAL\n",
    "                             )"
   ]
  },
  {
   "cell_type": "code",
   "execution_count": 153,
   "id": "af92ded7-5357-4487-af3e-454e3aa7a840",
   "metadata": {},
   "outputs": [
    {
     "name": "stdout",
     "output_type": "stream",
     "text": [
      "['City', 'Jan', 'Feb', 'Mar', 'Apr', 'May', 'Jun', 'Jul', 'Aug', 'Sep', 'Oct', 'Nov', 'Dec']\n"
     ]
    }
   ],
   "source": [
    "print(fieldnames)"
   ]
  },
  {
   "cell_type": "raw",
   "id": "3f01e9aa-962b-4725-95c2-0290640714e7",
   "metadata": {},
   "source": [
    "#print_table(tablem, fieldnames)"
   ]
  },
  {
   "cell_type": "raw",
   "id": "20c3db33-2889-4074-9c0e-69199868b8fb",
   "metadata": {},
   "source": [
    "#print_table(tablem, fieldnames)"
   ]
  },
  {
   "cell_type": "code",
   "execution_count": 154,
   "id": "95b1b614-23ea-4b70-846c-0d06e045cc53",
   "metadata": {},
   "outputs": [
    {
     "name": "stdout",
     "output_type": "stream",
     "text": [
      "City                  Jan   Feb   Mar   Apr   May   Jun   Jul   Aug   Sep   Oct   Nov   Dec\n",
      "Houston                62    65    72    78    84    90    92    93    88    81    71    63\n",
      "Baghdad                61    66    75    86    97   108   111   111   104    91    75    64\n",
      "Moscow                 21    25    36    50    64    72    73    70    59    46    34    25\n",
      "San Francisco          57    60    62    63    64    66    67    68    70    69    63    57\n",
      "London                 43    45    50    55    63    68    72    70    66    57    50    45\n",
      "Chicago                32    36    46    59    70    81    84    82    75    63    48    36\n",
      "Sydney                 79    79    77    73    68    64    63    64    68    72    75    79\n",
      "Paris                  45    46    54    61    68    73    77    77    70    61    52    46\n",
      "Tokyo                  46    48    54    63    70    75    82    84    79    68    59    52\n",
      "Shanghai               46    48    55    66    75    81    90    90    81    72    63    52\n"
     ]
    }
   ],
   "source": [
    "print_table(table, fieldnames)"
   ]
  },
  {
   "cell_type": "code",
   "execution_count": 155,
   "id": "835727af-a55b-4cb0-8926-657faae3794e",
   "metadata": {},
   "outputs": [],
   "source": [
    "path_to_data = r\"C:\\Users\\abhikuma\\Desktop\\Abhishek-CourseEra\\Python-Scriptiing-Rice-University\\Course-3-Python-Data-Analysis\\notebooks\\week-2-data\\hightemp2.csv\""
   ]
  },
  {
   "cell_type": "code",
   "execution_count": 156,
   "id": "1264cd71-8bf6-4139-a7ca-ea48b2702925",
   "metadata": {},
   "outputs": [],
   "source": [
    "table2, fieldnames2 = dictparse(path_to_data,\n",
    "                                'City',\n",
    "                                ',',\n",
    "                                '\"',\n",
    "                                csv.QUOTE_NONNUMERIC\n",
    "                               )"
   ]
  },
  {
   "cell_type": "code",
   "execution_count": 157,
   "id": "358dc0af-1cbd-4361-aadc-064ba658cbb8",
   "metadata": {},
   "outputs": [
    {
     "name": "stdout",
     "output_type": "stream",
     "text": [
      "City                  Jan   Feb   Mar   Apr   May   Jun   Jul   Aug   Sep   Oct   Nov   Dec\n",
      "Houston, USA         62.0  65.0  72.0  78.0  84.0  90.0  92.0  93.0  88.0  81.0  71.0  63.0\n",
      "Baghdad, Iraq        61.0  66.0  75.0  86.0  97.0 108.0 111.0 111.0 104.0  91.0  75.0  64.0\n",
      "Moscow, Russia       21.0  25.0  36.0  50.0  64.0  72.0  73.0  70.0  59.0  46.0  34.0  25.0\n",
      "San Francisco, USA   57.0  60.0  62.0  63.0  64.0  66.0  67.0  68.0  70.0  69.0  63.0  57.0\n",
      "London, England      43.0  45.0  50.0  55.0  63.0  68.0  72.0  70.0  66.0  57.0  50.0  45.0\n",
      "Chicago, USA         32.0  36.0  46.0  59.0  70.0  81.0  84.0  82.0  75.0  63.0  48.0  36.0\n",
      "Sydney, Australia    79.0  79.0  77.0  73.0  68.0  64.0  63.0  64.0  68.0  72.0  75.0  79.0\n",
      "Paris, France        45.0  46.0  54.0  61.0  68.0  73.0  77.0  77.0  70.0  61.0  52.0  46.0\n",
      "Tokyo, Japan         46.0  48.0  54.0  63.0  70.0  75.0  82.0  84.0  79.0  68.0  59.0  52.0\n",
      "Shanghai, China      46.0  48.0  55.0  66.0  75.0  81.0  90.0  90.0  81.0  72.0  63.0  52.0\n"
     ]
    }
   ],
   "source": [
    "print_table(table2, fieldnames2)"
   ]
  },
  {
   "cell_type": "code",
   "execution_count": 158,
   "id": "1097d166-3c09-453f-ac26-b411e4e10373",
   "metadata": {},
   "outputs": [],
   "source": [
    "path_to_data=path_to_data = r\"C:\\Users\\abhikuma\\Desktop\\Abhishek-CourseEra\\Python-Scriptiing-Rice-University\\Course-3-Python-Data-Analysis\\notebooks\\week-2-data\\hightemp3.csv\""
   ]
  },
  {
   "cell_type": "code",
   "execution_count": 165,
   "id": "07fb563d-7b42-4b12-9bd5-69350967c3ad",
   "metadata": {},
   "outputs": [],
   "source": [
    "table3, fieldnames3 = dictparse(path_to_data,\n",
    "                                'City',\n",
    "                                ' ',\n",
    "                                \"'\",\n",
    "                                csv.QUOTE_NONNUMERIC\n",
    "                               )"
   ]
  },
  {
   "cell_type": "code",
   "execution_count": 166,
   "id": "beee7ef6-fcfb-43b9-877c-c8340ca2efce",
   "metadata": {},
   "outputs": [
    {
     "name": "stdout",
     "output_type": "stream",
     "text": [
      "City                  Jan   Feb   Mar   Apr   May   Jun   Jul   Aug   Sep   Oct   Nov   Dec\n",
      "Houston, USA         62.0  65.0  72.0  78.0  84.0  90.0  92.0  93.0  88.0  81.0  71.0  63.0\n",
      "Baghdad, Iraq        61.0  66.0  75.0  86.0  97.0 108.0 111.0 111.0 104.0  91.0  75.0  64.0\n",
      "Moscow, Russia       21.0  25.0  36.0  50.0  64.0  72.0  73.0  70.0  59.0  46.0  34.0  25.0\n",
      "San Francisco, USA   57.0  60.0  62.0  63.0  64.0  66.0  67.0  68.0  70.0  69.0  63.0  57.0\n",
      "London, England      43.0  45.0  50.0  55.0  63.0  68.0  72.0  70.0  66.0  57.0  50.0  45.0\n",
      "Chicago, USA         32.0  36.0  46.0  59.0  70.0  81.0  84.0  82.0  75.0  63.0  48.0  36.0\n",
      "Sydney, Australia    79.0  79.0  77.0  73.0  68.0  64.0  63.0  64.0  68.0  72.0  75.0  79.0\n",
      "Paris, France        45.0  46.0  54.0  61.0  68.0  73.0  77.0  77.0  70.0  61.0  52.0  46.0\n",
      "Tokyo, Japan         46.0  48.0  54.0  63.0  70.0  75.0  82.0  84.0  79.0  68.0  59.0  52.0\n",
      "Shanghai, China      46.0  48.0  55.0  66.0  75.0  81.0  90.0  90.0  81.0  72.0  63.0  52.0\n"
     ]
    }
   ],
   "source": [
    "print_table(table3, fieldnames3)"
   ]
  },
  {
   "cell_type": "code",
   "execution_count": 167,
   "id": "c8663ac3-009f-49ac-8d7c-1df4109e19c3",
   "metadata": {},
   "outputs": [],
   "source": [
    "##########################################################\n",
    "# Experimenting with CSV Metods-Part-1"
   ]
  },
  {
   "cell_type": "code",
   "execution_count": 168,
   "id": "20cff95b-b613-4cfd-908d-b87d8e89994e",
   "metadata": {},
   "outputs": [],
   "source": [
    "def print_table(table):\n",
    "    \"\"\"\n",
    "    Echo a 2D table to the console\n",
    "    \"\"\"\n",
    "    for row in table:\n",
    "        print(row)\n",
    "        "
   ]
  },
  {
   "cell_type": "code",
   "execution_count": 190,
   "id": "ae4ac224-0cf1-40a6-8223-d74628dd4492",
   "metadata": {},
   "outputs": [],
   "source": [
    "def read_csv_file(file_name,file_delimeter):\n",
    "    \"\"\"\n",
    "    Given a CSV file path and a delimeter as strings,\n",
    "    read the data into a 2D table and return the table\n",
    "    \"\"\"\n",
    "    with open(file_name, newline='') as csv_file:  # do not explicity close the file now\n",
    "        csv_table = []\n",
    "        csv_reader = csv.reader(csv_file,delimiter=file_delimeter)\n",
    "        for row in csv_reader:\n",
    "            csv_table.append(row)\n",
    "    return csv_table"
   ]
  },
  {
   "cell_type": "code",
   "execution_count": null,
   "id": "3f950855-2001-4f48-9409-3eaa97e97e6a",
   "metadata": {},
   "outputs": [],
   "source": []
  },
  {
   "cell_type": "code",
   "execution_count": 191,
   "id": "92d14f58-a39e-4f99-a77e-e298f93f380b",
   "metadata": {},
   "outputs": [],
   "source": [
    "def csv_delimeter_examples():\n",
    "    \"\"\"\n",
    "    Run some example of reading the CSV file using different delimeter options\n",
    "    \"\"\"\n",
    "    number_table = read_csv_file(\"number_table.csv\",\" \")\n",
    "    print_table(number_table)\n",
    "    print()\n",
    "    name_table = read_csv_file(\"number_table.csv\", \",\")\n",
    "    print_table(name_table)\n",
    "\n",
    "    \n",
    "    "
   ]
  },
  {
   "cell_type": "code",
   "execution_count": 192,
   "id": "1857142b-2d55-4f8f-9634-1b7997e124bd",
   "metadata": {},
   "outputs": [
    {
     "name": "stdout",
     "output_type": "stream",
     "text": [
      "['1', '2', '3']\n",
      "['4', '5', '6']\n",
      "['7', '8', '9']\n",
      "['10', '11', '12']\n",
      "\n",
      "['1 2 3']\n",
      "['4 5 6']\n",
      "['7 8 9']\n",
      "['10 11 12']\n"
     ]
    }
   ],
   "source": [
    "csv_delimeter_examples()"
   ]
  },
  {
   "cell_type": "code",
   "execution_count": 193,
   "id": "22e72cff-7cfd-4763-832b-6c2e5a41e9de",
   "metadata": {},
   "outputs": [],
   "source": [
    "# Options for wrinting a CSV file"
   ]
  },
  {
   "cell_type": "code",
   "execution_count": 194,
   "id": "99f923f4-40d6-4ac2-b8aa-c6dcbca90468",
   "metadata": {},
   "outputs": [],
   "source": [
    "def write_csv_file(csv_table, file_name, file_delimeter, quoting_value):\n",
    "    \"\"\"\n",
    "    Given a nest list csv_table, write the data into a\n",
    "    CSV file with the name file_name\n",
    "    \"\"\"\n",
    "    with open(file_name, 'w', newline=' ') as csv_file:\n",
    "        csv_writer = csv.writer(csv_file, delimeter=file_delimeter, quoting=quoting_value)\n",
    "        for row in csv_table:\n",
    "            csv_writer.writerow(row)"
   ]
  },
  {
   "cell_type": "code",
   "execution_count": 197,
   "id": "a97443a9-8efb-4125-b74b-b1aa5454bb32",
   "metadata": {},
   "outputs": [],
   "source": [
    "def csv_quoting_examples():\n",
    "    \"\"\"\n",
    "    Run some example of writing 2D table as CSV file usinng vairous quoting options  \n",
    "    \"\"\"\n",
    "    name_table = read_csv_file(\"name_table.csv\", \",\")\n",
    "    name_table.append([1,2,3])\n",
    "    write_csv_file(name_table, \"name_table_minimal.csv\", \",\", csv.QUOTE_MINIMAL)\n",
    "    write_csv_file(name_table, \"name_table_all.csv\", \",\", csv.QUOTE_ALL)\n",
    "    write_csv_file(name_table, \"name_table_nonnumeric.csv\", \",\", csv.QUOTE_NONNUMERIC)\n",
    "    #write_csv_file(name_table, \"name_table_none.csv\", \",\", csv.QUOTE_NONE)        # no escapechar is set for lots of quotes"
   ]
  },
  {
   "cell_type": "code",
   "execution_count": 201,
   "id": "43ddbdf0-73ff-424f-9fd6-03dcaff0913d",
   "metadata": {},
   "outputs": [],
   "source": [
    "#csv_quoting_examples()"
   ]
  },
  {
   "cell_type": "code",
   "execution_count": null,
   "id": "b33a7980-3366-4217-a69c-b0bb96f97050",
   "metadata": {},
   "outputs": [],
   "source": []
  }
 ],
 "metadata": {
  "kernelspec": {
   "display_name": "Python 3.7.0 64-bit",
   "language": "python",
   "name": "python37064bit21de97711ad248b0b77b38c64f473b47"
  },
  "language_info": {
   "codemirror_mode": {
    "name": "ipython",
    "version": 3
   },
   "file_extension": ".py",
   "mimetype": "text/x-python",
   "name": "python",
   "nbconvert_exporter": "python",
   "pygments_lexer": "ipython3",
   "version": "3.7.8"
  }
 },
 "nbformat": 4,
 "nbformat_minor": 5
}
