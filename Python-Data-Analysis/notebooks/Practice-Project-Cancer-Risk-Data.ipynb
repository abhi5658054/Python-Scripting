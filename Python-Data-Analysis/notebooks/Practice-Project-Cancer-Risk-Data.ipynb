{
 "cells": [
  {
   "cell_type": "code",
   "execution_count": 13,
   "id": "96defa49-4d13-4a28-892a-9feb61954494",
   "metadata": {},
   "outputs": [
    {
     "data": {
      "text/plain": [
       "'\\nWeek 3 practice project template for Python Data Analysis\\nReading and writing CSV files using lists\\n'"
      ]
     },
     "execution_count": 13,
     "metadata": {},
     "output_type": "execute_result"
    }
   ],
   "source": [
    "\"\"\"\n",
    "Week 3 practice project template for Python Data Analysis\n",
    "Reading and writing CSV files using lists\n",
    "\"\"\"\n",
    "#########################################################\n",
    "# Part 1 - Week 3"
   ]
  },
  {
   "cell_type": "code",
   "execution_count": 14,
   "id": "61691fed-c8f0-46d7-92c6-f3825cf0f829",
   "metadata": {},
   "outputs": [],
   "source": [
    "import csv"
   ]
  },
  {
   "cell_type": "code",
   "execution_count": 24,
   "id": "1fee52b2-6fef-4521-b07e-71f3992a13e8",
   "metadata": {},
   "outputs": [],
   "source": [
    "def print_table(table):\n",
    "    \"\"\"\n",
    "    Echo a nested listto the console\n",
    "    \"\"\"\n",
    "    for row in table:\n",
    "        print(row)"
   ]
  },
  {
   "cell_type": "code",
   "execution_count": 37,
   "id": "ad4b6b09-3719-4b50-9041-d48ccee0de63",
   "metadata": {},
   "outputs": [],
   "source": [
    "def read_csv_file(file_name):\n",
    "    \"\"\"\n",
    "    Given a CSV file, read the data into a nested list\n",
    "    Input: String corresponding to comma-separated  CSV file\n",
    "    Output: Lists of lists consisting of the fields in the CSV file\n",
    "    \"\"\"\n",
    "    nested_list = []\n",
    "    with open(file_name, \"r\",newline='') as csvfile:\n",
    "        csv_reader = csv.reader(csvfile, delimiter=',', skipinitialspace=True)\n",
    "        for row in csv_reader:\n",
    "            nested_list.append(row)\n",
    "       \n",
    "    return nested_list\n"
   ]
  },
  {
   "cell_type": "code",
   "execution_count": 61,
   "id": "68d05f0d-aa0b-4c71-b834-e07ec3db5ce3",
   "metadata": {},
   "outputs": [],
   "source": [
    "def write_csv_file(csv_table, file_name):\n",
    "    \"\"\"\n",
    "    Input: Nested list csv_table and a string file_name\n",
    "    Action: Write fields in csv_table into a comma-separated CSV file with the name file_name\n",
    "    \"\"\"\n",
    "    with open(file_name, \"w\", newline='') as csvfile:\n",
    "        csv_writer = csv.writer(csvfile, delimiter=\",\", quoting = csv.QUOTE_MINIMAL)\n",
    "        for row in csv_table:\n",
    "            csv_writer.writerow(row)\n",
    "        \n",
    "    "
   ]
  },
  {
   "cell_type": "code",
   "execution_count": 65,
   "id": "e3e6ede1-337c-4e38-b269-989cb3fc3e51",
   "metadata": {},
   "outputs": [],
   "source": [
    "def test_part1_code():\n",
    "    \"\"\"\n",
    "    Run examples that test the functions for part 1\n",
    "    \"\"\"\n",
    "    \n",
    "    # Simple test for reader\n",
    "    test_table = read_csv_file(\"test_case.csv\")  # create a small CSV for this test\n",
    "    print_table(test_table)\n",
    "    print()\n",
    "\n",
    "    # Test the writer\n",
    "    cancer_risk_table = read_csv_file(\"cancer_risk05_v4_county.csv\")\n",
    "    write_csv_file(cancer_risk_table, \"cancer_risk05_v4_county_copy.csv\")\n",
    "    cancer_risk_copy = read_csv_file(\"cancer_risk05_v4_county_copy.csv\")\n",
    "    \n",
    "    # Test whether two tables are the same\n",
    "    # Test whether two tables are the same\n",
    "    for row in range(len(cancer_risk_table)):\n",
    "        for col in range(len(cancer_risk_table[0])):\n",
    "            if cancer_risk_table[row][col] != cancer_risk_copy[row][col]:\n",
    "                print(\"Difference at\", row, col, cancer_risk_table[row][col], cancer_risk_copy[row][col])\n",
    "    "
   ]
  },
  {
   "cell_type": "code",
   "execution_count": 66,
   "id": "0625a231-88ed-4949-8228-9571919c635f",
   "metadata": {},
   "outputs": [
    {
     "name": "stdout",
     "output_type": "stream",
     "text": [
      "['1', '2', '3', '4']\n",
      "['5', '6', '7', '8']\n",
      "['-2', '-3', '-4', '-5']\n",
      "\n"
     ]
    }
   ],
   "source": [
    "test_part1_code()"
   ]
  },
  {
   "cell_type": "code",
   "execution_count": null,
   "id": "f23cad71-59d1-4acb-a778-0f9f2e1db6ac",
   "metadata": {},
   "outputs": [],
   "source": []
  },
  {
   "cell_type": "code",
   "execution_count": null,
   "id": "464b3376-d04e-4401-b622-3bafaea807d6",
   "metadata": {},
   "outputs": [],
   "source": []
  }
 ],
 "metadata": {
  "kernelspec": {
   "display_name": "Python 3.7.0 64-bit",
   "language": "python",
   "name": "python37064bit21de97711ad248b0b77b38c64f473b47"
  },
  "language_info": {
   "codemirror_mode": {
    "name": "ipython",
    "version": 3
   },
   "file_extension": ".py",
   "mimetype": "text/x-python",
   "name": "python",
   "nbconvert_exporter": "python",
   "pygments_lexer": "ipython3",
   "version": "3.7.8"
  }
 },
 "nbformat": 4,
 "nbformat_minor": 5
}
